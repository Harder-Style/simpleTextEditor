{
 "cells": [
  {
   "cell_type": "code",
   "execution_count": null,
   "metadata": {},
   "outputs": [
    {
     "name": "stdout",
     "output_type": "stream",
     "text": [
      "3.10.14 | packaged by conda-forge | (main, Mar 20 2024, 12:51:49) [Clang 16.0.6 ]\n"
     ]
    }
   ],
   "source": [
    "import sys\n",
    "v = sys.version\n",
    "print(v)"
   ]
  },
  {
   "cell_type": "code",
   "execution_count": 20,
   "metadata": {},
   "outputs": [],
   "source": [
    "from tkinter import *\n",
    "import tkinter.filedialog\n",
    "root = Tk(\"Text Editor\")"
   ]
  },
  {
   "cell_type": "code",
   "execution_count": 21,
   "metadata": {},
   "outputs": [],
   "source": [
    "text = Text(root)\n",
    "text.grid()"
   ]
  },
  {
   "cell_type": "code",
   "execution_count": 22,
   "metadata": {},
   "outputs": [],
   "source": [
    "def saveAs():\n",
    "    global text\n",
    "    t = text.get(\"1.0\", \"end-1c\")\n",
    "    saveLocation = tkinter.filedialog.asksaveasfilename()\n",
    "    file1 = open(saveLocation, \"w+\")\n",
    "    file1.write(t)\n",
    "    file1.close()"
   ]
  },
  {
   "cell_type": "code",
   "execution_count": 23,
   "metadata": {},
   "outputs": [],
   "source": [
    "button=Button(root, text=\"Save\", command=saveAs)\n",
    "button.grid()"
   ]
  },
  {
   "cell_type": "code",
   "execution_count": 24,
   "metadata": {},
   "outputs": [],
   "source": [
    "def fontHelvetica():\n",
    "    global text\n",
    "    text.config(font=\"Helvetica\")"
   ]
  },
  {
   "cell_type": "code",
   "execution_count": 25,
   "metadata": {},
   "outputs": [],
   "source": [
    "def fontCourier():\n",
    "    global text\n",
    "    text.config(font=\"Courier\")"
   ]
  },
  {
   "cell_type": "code",
   "execution_count": 26,
   "metadata": {},
   "outputs": [],
   "source": [
    "font = Menubutton(root, text = \"Font\")\n",
    "font.grid()\n",
    "font.menu=Menu(font, tearoff=0)\n",
    "font[\"menu\"] = font.menu\n",
    "helvetica = IntVar()\n",
    "arial = IntVar\n",
    "times=IntVar\n",
    "courier = IntVar()"
   ]
  },
  {
   "cell_type": "code",
   "execution_count": 27,
   "metadata": {},
   "outputs": [],
   "source": [
    "font.menu.add_checkbutton(label=\"Courier\", variable=courier, command=fontCourier)\n",
    "font.menu.add_checkbutton(label=\"Helvetica\", variable=helvetica, command=fontHelvetica)"
   ]
  },
  {
   "cell_type": "code",
   "execution_count": 28,
   "metadata": {},
   "outputs": [],
   "source": [
    "root.mainloop()"
   ]
  }
 ],
 "metadata": {
  "kernelspec": {
   "display_name": "tensorflow",
   "language": "python",
   "name": "python3"
  },
  "language_info": {
   "codemirror_mode": {
    "name": "ipython",
    "version": 3
   },
   "file_extension": ".py",
   "mimetype": "text/x-python",
   "name": "python",
   "nbconvert_exporter": "python",
   "pygments_lexer": "ipython3",
   "version": "3.10.14"
  }
 },
 "nbformat": 4,
 "nbformat_minor": 2
}
